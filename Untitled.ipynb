{
 "cells": [
  {
   "cell_type": "code",
   "execution_count": 1,
   "id": "6c62a3ce",
   "metadata": {},
   "outputs": [
    {
     "data": {
      "application/vnd.jupyter.widget-view+json": {
       "model_id": "2080b54fea2b4c0d811c67e8d163e8a6",
       "version_major": 2,
       "version_minor": 0
      },
      "text/plain": [
       "Niivue(value=None, layout=Layout(height='480'))"
      ]
     },
     "metadata": {},
     "output_type": "display_data"
    }
   ],
   "source": [
    "from jupyterlab_niivue import Niivue\n",
    "hello_world = Niivue()\n",
    "hello_world"
   ]
  },
  {
   "cell_type": "code",
   "execution_count": null,
   "id": "c5da9d30",
   "metadata": {},
   "outputs": [],
   "source": []
  }
 ],
 "metadata": {
  "kernelspec": {
   "display_name": "Python 3 (ipykernel)",
   "language": "python",
   "name": "python3"
  },
  "language_info": {
   "codemirror_mode": {
    "name": "ipython",
    "version": 3
   },
   "file_extension": ".py",
   "mimetype": "text/x-python",
   "name": "python",
   "nbconvert_exporter": "python",
   "pygments_lexer": "ipython3",
   "version": "3.9.12"
  }
 },
 "nbformat": 4,
 "nbformat_minor": 5
}
